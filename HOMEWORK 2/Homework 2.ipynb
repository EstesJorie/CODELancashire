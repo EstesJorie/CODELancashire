{
 "cells": [
  {
   "cell_type": "code",
   "execution_count": 20,
   "id": "06168241-def6-4df0-a4d2-460dc736e475",
   "metadata": {},
   "outputs": [],
   "source": [
    "import pandas as pd\n",
    "import matplotlib.pyplot as plt\n",
    "import numpy as np\n",
    "\n",
    "import seaborn as sns\n",
    "sns.set()\n",
    "\n",
    "from sklearn.preprocessing import LabelEncoder\n",
    "from sklearn.preprocessing import MinMaxScaler\n",
    "from sklearn.model_selection import train_test_split\n",
    "\n",
    "from sklearn.tree import DecisionTreeRegressor\n",
    "from sklearn.metrics import mean_absolute_error\n",
    "from sklearn.metrics import mean_squared_error"
   ]
  },
  {
   "cell_type": "code",
   "execution_count": 8,
   "id": "71c98377-361f-4fe2-b4a6-dfdda7f83ec1",
   "metadata": {},
   "outputs": [
    {
     "data": {
      "text/plain": [
       "Index(['Player', 'Hand', 'Score', 'Dealer Card', 'Dealer Score', 'Result',\n",
       "       'Reason'],\n",
       "      dtype='object')"
      ]
     },
     "execution_count": 8,
     "metadata": {},
     "output_type": "execute_result"
    }
   ],
   "source": [
    "bJ = pd.read_csv(r'C:\\Users\\joetr\\Documents\\CODELancashire\\HOMEWORK 2/black_jack_simulation_5_players_1000_decks.csv',sep=',',index_col=0)\n",
    "bJ.keys()"
   ]
  },
  {
   "cell_type": "code",
   "execution_count": 9,
   "id": "d4dfb5d0-918c-4d22-a928-9e75eeb0194b",
   "metadata": {},
   "outputs": [
    {
     "data": {
      "text/html": [
       "<div>\n",
       "<style scoped>\n",
       "    .dataframe tbody tr th:only-of-type {\n",
       "        vertical-align: middle;\n",
       "    }\n",
       "\n",
       "    .dataframe tbody tr th {\n",
       "        vertical-align: top;\n",
       "    }\n",
       "\n",
       "    .dataframe thead th {\n",
       "        text-align: right;\n",
       "    }\n",
       "</style>\n",
       "<table border=\"1\" class=\"dataframe\">\n",
       "  <thead>\n",
       "    <tr style=\"text-align: right;\">\n",
       "      <th></th>\n",
       "      <th>Player</th>\n",
       "      <th>Hand</th>\n",
       "      <th>Player_Score</th>\n",
       "      <th>Dealer_Card</th>\n",
       "      <th>Dealer_Score</th>\n",
       "      <th>Result</th>\n",
       "      <th>Reason</th>\n",
       "    </tr>\n",
       "    <tr>\n",
       "      <th>Round</th>\n",
       "      <th></th>\n",
       "      <th></th>\n",
       "      <th></th>\n",
       "      <th></th>\n",
       "      <th></th>\n",
       "      <th></th>\n",
       "      <th></th>\n",
       "    </tr>\n",
       "  </thead>\n",
       "  <tbody>\n",
       "    <tr>\n",
       "      <th>1</th>\n",
       "      <td>1</td>\n",
       "      <td>2 9 6</td>\n",
       "      <td>17</td>\n",
       "      <td>5</td>\n",
       "      <td>24</td>\n",
       "      <td>1</td>\n",
       "      <td>Dealer Bust</td>\n",
       "    </tr>\n",
       "    <tr>\n",
       "      <th>1</th>\n",
       "      <td>2</td>\n",
       "      <td>5 6 A 4 5</td>\n",
       "      <td>21</td>\n",
       "      <td>5</td>\n",
       "      <td>24</td>\n",
       "      <td>1</td>\n",
       "      <td>Dealer Bust</td>\n",
       "    </tr>\n",
       "    <tr>\n",
       "      <th>1</th>\n",
       "      <td>3</td>\n",
       "      <td>4 10 5</td>\n",
       "      <td>19</td>\n",
       "      <td>5</td>\n",
       "      <td>24</td>\n",
       "      <td>1</td>\n",
       "      <td>Dealer Bust</td>\n",
       "    </tr>\n",
       "    <tr>\n",
       "      <th>1</th>\n",
       "      <td>4</td>\n",
       "      <td>3 2 4 5 6</td>\n",
       "      <td>20</td>\n",
       "      <td>5</td>\n",
       "      <td>24</td>\n",
       "      <td>1</td>\n",
       "      <td>Dealer Bust</td>\n",
       "    </tr>\n",
       "    <tr>\n",
       "      <th>1</th>\n",
       "      <td>5</td>\n",
       "      <td>A J</td>\n",
       "      <td>21</td>\n",
       "      <td>5</td>\n",
       "      <td>24</td>\n",
       "      <td>1</td>\n",
       "      <td>Dealer Bust</td>\n",
       "    </tr>\n",
       "    <tr>\n",
       "      <th>2</th>\n",
       "      <td>1</td>\n",
       "      <td>K 4 J</td>\n",
       "      <td>24</td>\n",
       "      <td>6</td>\n",
       "      <td>26</td>\n",
       "      <td>2</td>\n",
       "      <td>Bust</td>\n",
       "    </tr>\n",
       "    <tr>\n",
       "      <th>2</th>\n",
       "      <td>2</td>\n",
       "      <td>A 10</td>\n",
       "      <td>21</td>\n",
       "      <td>6</td>\n",
       "      <td>26</td>\n",
       "      <td>1</td>\n",
       "      <td>Dealer Bust</td>\n",
       "    </tr>\n",
       "    <tr>\n",
       "      <th>2</th>\n",
       "      <td>3</td>\n",
       "      <td>3 8 5 9</td>\n",
       "      <td>25</td>\n",
       "      <td>6</td>\n",
       "      <td>26</td>\n",
       "      <td>2</td>\n",
       "      <td>Bust</td>\n",
       "    </tr>\n",
       "    <tr>\n",
       "      <th>2</th>\n",
       "      <td>4</td>\n",
       "      <td>10 10</td>\n",
       "      <td>20</td>\n",
       "      <td>6</td>\n",
       "      <td>26</td>\n",
       "      <td>1</td>\n",
       "      <td>Dealer Bust</td>\n",
       "    </tr>\n",
       "    <tr>\n",
       "      <th>2</th>\n",
       "      <td>5</td>\n",
       "      <td>3 8 10</td>\n",
       "      <td>21</td>\n",
       "      <td>6</td>\n",
       "      <td>26</td>\n",
       "      <td>1</td>\n",
       "      <td>Dealer Bust</td>\n",
       "    </tr>\n",
       "  </tbody>\n",
       "</table>\n",
       "</div>"
      ],
      "text/plain": [
       "       Player       Hand  Player_Score Dealer_Card  Dealer_Score  Result  \\\n",
       "Round                                                                      \n",
       "1           1      2 9 6            17           5            24       1   \n",
       "1           2  5 6 A 4 5            21           5            24       1   \n",
       "1           3     4 10 5            19           5            24       1   \n",
       "1           4  3 2 4 5 6            20           5            24       1   \n",
       "1           5        A J            21           5            24       1   \n",
       "2           1      K 4 J            24           6            26       2   \n",
       "2           2       A 10            21           6            26       1   \n",
       "2           3    3 8 5 9            25           6            26       2   \n",
       "2           4      10 10            20           6            26       1   \n",
       "2           5     3 8 10            21           6            26       1   \n",
       "\n",
       "            Reason  \n",
       "Round               \n",
       "1      Dealer Bust  \n",
       "1      Dealer Bust  \n",
       "1      Dealer Bust  \n",
       "1      Dealer Bust  \n",
       "1      Dealer Bust  \n",
       "2             Bust  \n",
       "2      Dealer Bust  \n",
       "2             Bust  \n",
       "2      Dealer Bust  \n",
       "2      Dealer Bust  "
      ]
     },
     "execution_count": 9,
     "metadata": {},
     "output_type": "execute_result"
    }
   ],
   "source": [
    "bJ= bJ.rename(columns={'Score': 'Player_Score', 'Dealer Card': 'Dealer_Card', 'Dealer Score': 'Dealer_Score'})\n",
    "bJ.head(10)"
   ]
  },
  {
   "cell_type": "code",
   "execution_count": 10,
   "id": "d42574a9-6b21-4032-ad03-c738cb5dc91d",
   "metadata": {},
   "outputs": [
    {
     "name": "stdout",
     "output_type": "stream",
     "text": [
      "             Player  Player_Score  Dealer_Score   Result\n",
      "count  18217.000000  18217.000000  18217.000000  18217.0\n",
      "mean       3.006972     19.014492     23.663885      1.0\n",
      "std        1.412235      1.369490      1.380684      0.0\n",
      "min        1.000000     17.000000     22.000000      1.0\n",
      "25%        2.000000     18.000000     22.000000      1.0\n",
      "50%        3.000000     19.000000     23.000000      1.0\n",
      "75%        4.000000     20.000000     25.000000      1.0\n",
      "max        5.000000     21.000000     26.000000      1.0\n",
      "             Player  Player_Score  Dealer_Score   Result\n",
      "count  25851.000000  25851.000000  25851.000000  25851.0\n",
      "mean       3.007621     23.759468     20.324514      2.0\n",
      "std        1.418904      1.421857      2.514535      0.0\n",
      "min        1.000000     22.000000     17.000000      2.0\n",
      "25%        2.000000     22.000000     18.000000      2.0\n",
      "50%        3.000000     24.000000     20.000000      2.0\n",
      "75%        4.000000     25.000000     22.000000      2.0\n",
      "max        5.000000     27.000000     26.000000      2.0\n"
     ]
    }
   ],
   "source": [
    "print(bJ[bJ.Reason == 'Dealer Bust'].describe())\n",
    "print(bJ[bJ.Reason == 'Bust'].describe())"
   ]
  },
  {
   "cell_type": "code",
   "execution_count": 32,
   "id": "30ae5cca-02f1-403d-927b-bb50b7555a72",
   "metadata": {},
   "outputs": [
    {
     "name": "stdout",
     "output_type": "stream",
     "text": [
      "26 17\n",
      "27 17\n"
     ]
    }
   ],
   "source": [
    "print(bJ.Dealer_Score.max(), bJ.Dealer_Score.min())\n",
    "print(bJ.Player_Score.max(), bJ.Player_Score.min())"
   ]
  }
 ],
 "metadata": {
  "kernelspec": {
   "display_name": "Python 3 (ipykernel)",
   "language": "python",
   "name": "python3"
  },
  "language_info": {
   "codemirror_mode": {
    "name": "ipython",
    "version": 3
   },
   "file_extension": ".py",
   "mimetype": "text/x-python",
   "name": "python",
   "nbconvert_exporter": "python",
   "pygments_lexer": "ipython3",
   "version": "3.12.4"
  }
 },
 "nbformat": 4,
 "nbformat_minor": 5
}
